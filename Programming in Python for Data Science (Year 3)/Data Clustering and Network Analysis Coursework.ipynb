{
 "cells": [
  {
   "cell_type": "markdown",
   "metadata": {},
   "source": [
    "# Task 1. Data Clustering - Seed Shape Data"
   ]
  },
  {
   "cell_type": "code",
   "execution_count": 31,
   "metadata": {},
   "outputs": [],
   "source": [
    "from sklearn.cluster import KMeans\n",
    "from sklearn.preprocessing import MinMaxScaler\n",
    "from matplotlib import pyplot as plt\n",
    "%matplotlib inline"
   ]
  },
  {
   "cell_type": "markdown",
   "metadata": {},
   "source": [
    "## 1. Explore data set and decide upon two variables."
   ]
  },
  {
   "cell_type": "code",
   "execution_count": 32,
   "metadata": {},
   "outputs": [
    {
     "data": {
      "text/html": [
       "<div>\n",
       "<style scoped>\n",
       "    .dataframe tbody tr th:only-of-type {\n",
       "        vertical-align: middle;\n",
       "    }\n",
       "\n",
       "    .dataframe tbody tr th {\n",
       "        vertical-align: top;\n",
       "    }\n",
       "\n",
       "    .dataframe thead th {\n",
       "        text-align: right;\n",
       "    }\n",
       "</style>\n",
       "<table border=\"1\" class=\"dataframe\">\n",
       "  <thead>\n",
       "    <tr style=\"text-align: right;\">\n",
       "      <th></th>\n",
       "      <th>area</th>\n",
       "      <th>perimeter</th>\n",
       "      <th>compactness</th>\n",
       "      <th>length</th>\n",
       "      <th>width</th>\n",
       "      <th>asymmetry</th>\n",
       "      <th>groove length</th>\n",
       "    </tr>\n",
       "  </thead>\n",
       "  <tbody>\n",
       "    <tr>\n",
       "      <th>0</th>\n",
       "      <td>15.26</td>\n",
       "      <td>14.84</td>\n",
       "      <td>0.871</td>\n",
       "      <td>5.763</td>\n",
       "      <td>3.312</td>\n",
       "      <td>2.221</td>\n",
       "      <td>5.220</td>\n",
       "    </tr>\n",
       "    <tr>\n",
       "      <th>1</th>\n",
       "      <td>14.88</td>\n",
       "      <td>14.57</td>\n",
       "      <td>0.881</td>\n",
       "      <td>5.554</td>\n",
       "      <td>3.333</td>\n",
       "      <td>1.018</td>\n",
       "      <td>4.956</td>\n",
       "    </tr>\n",
       "    <tr>\n",
       "      <th>2</th>\n",
       "      <td>14.29</td>\n",
       "      <td>14.09</td>\n",
       "      <td>0.905</td>\n",
       "      <td>5.291</td>\n",
       "      <td>3.337</td>\n",
       "      <td>2.699</td>\n",
       "      <td>4.825</td>\n",
       "    </tr>\n",
       "    <tr>\n",
       "      <th>3</th>\n",
       "      <td>13.84</td>\n",
       "      <td>13.94</td>\n",
       "      <td>0.895</td>\n",
       "      <td>5.324</td>\n",
       "      <td>3.379</td>\n",
       "      <td>2.259</td>\n",
       "      <td>4.805</td>\n",
       "    </tr>\n",
       "    <tr>\n",
       "      <th>4</th>\n",
       "      <td>16.14</td>\n",
       "      <td>14.99</td>\n",
       "      <td>0.903</td>\n",
       "      <td>5.658</td>\n",
       "      <td>3.562</td>\n",
       "      <td>1.355</td>\n",
       "      <td>5.175</td>\n",
       "    </tr>\n",
       "  </tbody>\n",
       "</table>\n",
       "</div>"
      ],
      "text/plain": [
       "    area  perimeter  compactness  length  width  asymmetry  groove length\n",
       "0  15.26      14.84        0.871   5.763  3.312      2.221          5.220\n",
       "1  14.88      14.57        0.881   5.554  3.333      1.018          4.956\n",
       "2  14.29      14.09        0.905   5.291  3.337      2.699          4.825\n",
       "3  13.84      13.94        0.895   5.324  3.379      2.259          4.805\n",
       "4  16.14      14.99        0.903   5.658  3.562      1.355          5.175"
      ]
     },
     "execution_count": 32,
     "metadata": {},
     "output_type": "execute_result"
    }
   ],
   "source": [
    "seeds = pd.read_csv('seeds.csv') # load seed data set\n",
    "seeds.head() # display first five rows"
   ]
  },
  {
   "cell_type": "code",
   "execution_count": 33,
   "metadata": {},
   "outputs": [
    {
     "data": {
      "text/html": [
       "<div>\n",
       "<style scoped>\n",
       "    .dataframe tbody tr th:only-of-type {\n",
       "        vertical-align: middle;\n",
       "    }\n",
       "\n",
       "    .dataframe tbody tr th {\n",
       "        vertical-align: top;\n",
       "    }\n",
       "\n",
       "    .dataframe thead th {\n",
       "        text-align: right;\n",
       "    }\n",
       "</style>\n",
       "<table border=\"1\" class=\"dataframe\">\n",
       "  <thead>\n",
       "    <tr style=\"text-align: right;\">\n",
       "      <th></th>\n",
       "      <th>length</th>\n",
       "      <th>width</th>\n",
       "    </tr>\n",
       "  </thead>\n",
       "  <tbody>\n",
       "    <tr>\n",
       "      <th>0</th>\n",
       "      <td>5.763</td>\n",
       "      <td>3.312</td>\n",
       "    </tr>\n",
       "    <tr>\n",
       "      <th>1</th>\n",
       "      <td>5.554</td>\n",
       "      <td>3.333</td>\n",
       "    </tr>\n",
       "    <tr>\n",
       "      <th>2</th>\n",
       "      <td>5.291</td>\n",
       "      <td>3.337</td>\n",
       "    </tr>\n",
       "    <tr>\n",
       "      <th>3</th>\n",
       "      <td>5.324</td>\n",
       "      <td>3.379</td>\n",
       "    </tr>\n",
       "    <tr>\n",
       "      <th>4</th>\n",
       "      <td>5.658</td>\n",
       "      <td>3.562</td>\n",
       "    </tr>\n",
       "  </tbody>\n",
       "</table>\n",
       "</div>"
      ],
      "text/plain": [
       "   length  width\n",
       "0   5.763  3.312\n",
       "1   5.554  3.333\n",
       "2   5.291  3.337\n",
       "3   5.324  3.379\n",
       "4   5.658  3.562"
      ]
     },
     "execution_count": 33,
     "metadata": {},
     "output_type": "execute_result"
    }
   ],
   "source": [
    "seedsLW = seeds[['length','width']].copy() # create new data set from seeds length and width\n",
    "seedsLW.head() # display first five rows"
   ]
  },
  {
   "cell_type": "code",
   "execution_count": 34,
   "metadata": {},
   "outputs": [
    {
     "data": {
      "text/plain": [
       "Text(0.5, 1.0, 'Seed Length vs. Width')"
      ]
     },
     "execution_count": 34,
     "metadata": {},
     "output_type": "execute_result"
    },
    {
     "data": {
      "image/png": "[encoded data removed]",
      "text/plain": [
       "<Figure size 432x288 with 1 Axes>"
      ]
     },
     "metadata": {
      "needs_background": "light"
     },
     "output_type": "display_data"
    }
   ],
   "source": [
    "plt.scatter(seedsLW['length'],seedsLW['width']) # plot scatter of length vs width\n",
    "plt.xlabel('Length')\n",
    "plt.ylabel('Width')\n",
    "plt.title('Seed Length vs. Width')"
   ]
  },
  {
   "cell_type": "markdown",
   "metadata": {},
   "source": [
    "Seed length vs width seem to be the logical variables to explore as they pertain to the size of the seed, consequently the seeds can be clustered into groups based upon their size. It is not obvious how many clusters there will be so we must use another method to figure out k."
   ]
  },
  {
   "cell_type": "markdown",
   "metadata": {},
   "source": [
    "## 2. Find k value from Elbow method."
   ]
  },
  {
   "cell_type": "code",
   "execution_count": 35,
   "metadata": {},
   "outputs": [
    {
     "data": {
      "image/png": "[encoded data removed]",
      "text/plain": [
       "<Figure size 432x288 with 1 Axes>"
      ]
     },
     "metadata": {
      "needs_background": "light"
     },
     "output_type": "display_data"
    }
   ],
   "source": [
    "distortions = [] # runs KMeans for k values between 1 and 10, finds the inertia, best value for k is at 'elbow point'\n",
    "K = range(1,10)\n",
    "for k in K:\n",
    "    kmeanModel = KMeans(n_clusters=k)\n",
    "    kmeanModel.fit(seedsLW)\n",
    "    distortions.append(kmeanModel.inertia_)\n",
    "\n",
    "plt.plot(K, distortions, 'bx-')\n",
    "plt.xlabel('k')\n",
    "plt.ylabel('Distortion')\n",
    "plt.title('Elbow Method For Optimal Value Of K')\n",
    "plt.show()"
   ]
  },
  {
   "cell_type": "markdown",
   "metadata": {},
   "source": [
    "The inflection point is at a k value of 3, this will be used for the final KMeans clustering."
   ]
  },
  {
   "cell_type": "markdown",
   "metadata": {},
   "source": [
    "## 3. Apply k value to KMeans algorithm."
   ]
  },
  {
   "cell_type": "code",
   "execution_count": 36,
   "metadata": {},
   "outputs": [
    {
     "data": {
      "text/plain": [
       "array([2, 2, 2, 2, 2, 2, 2, 2, 0, 2, 2, 2, 2, 2, 2, 2, 1, 2, 2, 1, 2, 2,\n",
       "       2, 1, 2, 2, 1, 1, 2, 2, 1, 2, 2, 2, 2, 2, 2, 2, 2, 2, 1, 1, 1, 2,\n",
       "       2, 1, 2, 2, 2, 2, 2, 2, 2, 2, 2, 2, 2, 2, 2, 1, 1, 1, 1, 1, 1, 1,\n",
       "       2, 2, 2, 1, 0, 0, 0, 0, 0, 2, 0, 0, 0, 2, 2, 0, 0, 0, 0, 0, 0, 0,\n",
       "       0, 0, 0, 0, 0, 0, 0, 0, 0, 0, 0, 0, 2, 0, 0, 0, 0, 0, 0, 0, 0, 0,\n",
       "       0, 0, 0, 0, 0, 0, 0, 0, 0, 0, 0, 0, 2, 0, 2, 0, 0, 0, 0, 2, 0, 0,\n",
       "       2, 2, 2, 2, 0, 2, 2, 2, 1, 2, 1, 1, 1, 1, 1, 1, 1, 1, 1, 1, 1, 1,\n",
       "       1, 1, 1, 1, 1, 1, 1, 1, 1, 1, 1, 1, 1, 1, 1, 1, 1, 1, 1, 1, 1, 1,\n",
       "       1, 1, 1, 1, 1, 1, 1, 1, 1, 1, 1, 1, 1, 1, 1, 1, 1, 1, 1, 1, 1, 1,\n",
       "       1, 1, 1, 1, 1, 1, 1, 1, 1, 1, 1, 1])"
      ]
     },
     "execution_count": 36,
     "metadata": {},
     "output_type": "execute_result"
    }
   ],
   "source": [
    "km = KMeans(n_clusters=3) # best k value is 3\n",
    "y_predicted = km.fit_predict(seedsLW[['length','width']]) # fit and predict for length and width, assign cluster number\n",
    "y_predicted # show cluster numbers "
   ]
  },
  {
   "cell_type": "code",
   "execution_count": 37,
   "metadata": {},
   "outputs": [
    {
     "data": {
      "text/html": [
       "<div>\n",
       "<style scoped>\n",
       "    .dataframe tbody tr th:only-of-type {\n",
       "        vertical-align: middle;\n",
       "    }\n",
       "\n",
       "    .dataframe tbody tr th {\n",
       "        vertical-align: top;\n",
       "    }\n",
       "\n",
       "    .dataframe thead th {\n",
       "        text-align: right;\n",
       "    }\n",
       "</style>\n",
       "<table border=\"1\" class=\"dataframe\">\n",
       "  <thead>\n",
       "    <tr style=\"text-align: right;\">\n",
       "      <th></th>\n",
       "      <th>length</th>\n",
       "      <th>width</th>\n",
       "      <th>cluster</th>\n",
       "    </tr>\n",
       "  </thead>\n",
       "  <tbody>\n",
       "    <tr>\n",
       "      <th>0</th>\n",
       "      <td>5.763</td>\n",
       "      <td>3.312</td>\n",
       "      <td>2</td>\n",
       "    </tr>\n",
       "    <tr>\n",
       "      <th>1</th>\n",
       "      <td>5.554</td>\n",
       "      <td>3.333</td>\n",
       "      <td>2</td>\n",
       "    </tr>\n",
       "    <tr>\n",
       "      <th>2</th>\n",
       "      <td>5.291</td>\n",
       "      <td>3.337</td>\n",
       "      <td>2</td>\n",
       "    </tr>\n",
       "    <tr>\n",
       "      <th>3</th>\n",
       "      <td>5.324</td>\n",
       "      <td>3.379</td>\n",
       "      <td>2</td>\n",
       "    </tr>\n",
       "    <tr>\n",
       "      <th>4</th>\n",
       "      <td>5.658</td>\n",
       "      <td>3.562</td>\n",
       "      <td>2</td>\n",
       "    </tr>\n",
       "  </tbody>\n",
       "</table>\n",
       "</div>"
      ],
      "text/plain": [
       "   length  width  cluster\n",
       "0   5.763  3.312        2\n",
       "1   5.554  3.333        2\n",
       "2   5.291  3.337        2\n",
       "3   5.324  3.379        2\n",
       "4   5.658  3.562        2"
      ]
     },
     "execution_count": 37,
     "metadata": {},
     "output_type": "execute_result"
    }
   ],
   "source": [
    "seedsLW['cluster'] = y_predicted # add cluster number to data frame\n",
    "seedsLW.head() # display first five rows"
   ]
  },
  {
   "cell_type": "markdown",
   "metadata": {},
   "source": [
    "## 4. Produce a scatter plot of clusters."
   ]
  },
  {
   "cell_type": "code",
   "execution_count": 38,
   "metadata": {},
   "outputs": [
    {
     "data": {
      "text/plain": [
       "Text(0.5, 1.0, 'Clustering of Seed Length vs. Width')"
      ]
     },
     "execution_count": 38,
     "metadata": {},
     "output_type": "execute_result"
    },
    {
     "data": {
      "image/png": "[encoded data removed]",
      "text/plain": [
       "<Figure size 432x288 with 1 Axes>"
      ]
     },
     "metadata": {
      "needs_background": "light"
     },
     "output_type": "display_data"
    }
   ],
   "source": [
    "LW0 = seedsLW[seedsLW.cluster==0] # data frame of 0 cluster\n",
    "LW1 = seedsLW[seedsLW.cluster==1] # data frame of 1 cluster\n",
    "LW2 = seedsLW[seedsLW.cluster==2] # data frame of 2 cluster\n",
    "\n",
    "plt.scatter(LW0.length,LW0.width,color='red') # plot 0 cluster as red\n",
    "plt.scatter(LW1.length,LW1.width,color='green') # plot 1 cluster as green\n",
    "plt.scatter(LW2.length,LW2.width,color='blue') # plot 2 cluster as blue\n",
    "\n",
    "plt.xlabel('Length')\n",
    "plt.ylabel('Width')\n",
    "plt.title('Clustering of Seed Length vs. Width')"
   ]
  },
  {
   "cell_type": "markdown",
   "metadata": {},
   "source": [
    "From the variables of length and width, three seed clusterings have been identified and plotted. The KMeans algorithm was used as it is simple to implement and can scale well to large data sets, such as the seed data set. From the initial scatter plot, it was shown that the seeds mostly follow a directly proportional trend, as such the clusters would each be a similar size to each other with few outliers. Furthermore, the seed length and width are of a similar scale so min-maxing is not required. While Gaussian clustering may lead to greater accuracy in clustering, the KMeans plot shows three distinct groupings without crossover, so the use of Gaussian is unnecessary. "
   ]
  },
  {
   "cell_type": "markdown",
   "metadata": {},
   "source": [
    "# Task 2. Social Network Analysis"
   ]
  },
  {
   "cell_type": "code",
   "execution_count": 39,
   "metadata": {},
   "outputs": [],
   "source": [
    "import networkx as nx"
   ]
  },
  {
   "cell_type": "markdown",
   "metadata": {},
   "source": [
    "## 1. Visualisation of Network."
   ]
  },
  {
   "cell_type": "code",
   "execution_count": 40,
   "metadata": {},
   "outputs": [
    {
     "data": {
      "image/png": "[encoded data removed]",
      "text/plain": [
       "<Figure size 864x864 with 1 Axes>"
      ]
     },
     "metadata": {},
     "output_type": "display_data"
    }
   ],
   "source": [
    "sn = pd.read_csv('social-network.csv')\n",
    "G = nx.from_pandas_edgelist(sn, source='1',target='2')\n",
    "layout = nx.spring_layout(G)\n",
    "plt.figure(1,figsize=(12,12))\n",
    "nx.draw(G,layout,node_size = 5)\n",
    "plt.show()"
   ]
  },
  {
   "cell_type": "markdown",
   "metadata": {},
   "source": [
    "The plot shows there are ten distinguishable clusters of users. Each cluster is connected to at least one other cluster, either to a node directly in the other cluster, or by an independent connecting node. Each cluster may represent a different location within the real world; this would explain why there are so many connections between nodes within the same cluster, but few between nodes of different clusters. The size of each cluster could indicate how many people use the social network within that location, the larger clusters seem to have more connections to other clusters, while the smaller clusters have fewer. "
   ]
  },
  {
   "cell_type": "markdown",
   "metadata": {},
   "source": [
    "## 2. Statistical Analysis"
   ]
  },
  {
   "cell_type": "markdown",
   "metadata": {},
   "source": [
    "### Number of Nodes:"
   ]
  },
  {
   "cell_type": "markdown",
   "metadata": {},
   "source": [
    "A node is a vertex/point within a network. "
   ]
  },
  {
   "cell_type": "code",
   "execution_count": 41,
   "metadata": {},
   "outputs": [
    {
     "name": "stdout",
     "output_type": "stream",
     "text": [
      "2887\n"
     ]
    }
   ],
   "source": [
    "snNodes = G.number_of_nodes()\n",
    "print(snNodes)"
   ]
  },
  {
   "cell_type": "markdown",
   "metadata": {},
   "source": [
    "### Number of Edges:"
   ]
  },
  {
   "cell_type": "markdown",
   "metadata": {},
   "source": [
    "An edge is the connection between two nodes within a network."
   ]
  },
  {
   "cell_type": "code",
   "execution_count": 42,
   "metadata": {},
   "outputs": [
    {
     "name": "stdout",
     "output_type": "stream",
     "text": [
      "2980\n"
     ]
    }
   ],
   "source": [
    "snEdges = G.number_of_edges()\n",
    "print(snEdges)"
   ]
  },
  {
   "cell_type": "markdown",
   "metadata": {},
   "source": [
    "### Average Degree:"
   ]
  },
  {
   "cell_type": "markdown",
   "metadata": {},
   "source": [
    "The average degree is the average number of connections a node has."
   ]
  },
  {
   "cell_type": "code",
   "execution_count": 43,
   "metadata": {},
   "outputs": [
    {
     "name": "stdout",
     "output_type": "stream",
     "text": [
      "1.032213370280568\n"
     ]
    }
   ],
   "source": [
    "avgDeg = snEdges/snNodes\n",
    "print(avgDeg)"
   ]
  },
  {
   "cell_type": "markdown",
   "metadata": {},
   "source": [
    "All nodes are connected so the average degree is at least 1."
   ]
  },
  {
   "cell_type": "markdown",
   "metadata": {},
   "source": [
    "### Number of Connected Components:"
   ]
  },
  {
   "cell_type": "markdown",
   "metadata": {},
   "source": [
    "A connected component is a set of nodes from which it is possible to reach all other nodes in the set."
   ]
  },
  {
   "cell_type": "code",
   "execution_count": 44,
   "metadata": {},
   "outputs": [
    {
     "name": "stdout",
     "output_type": "stream",
     "text": [
      "1\n"
     ]
    }
   ],
   "source": [
    "numComp = nx.number_connected_components(G)\n",
    "print(numComp)"
   ]
  },
  {
   "cell_type": "markdown",
   "metadata": {},
   "source": [
    "It is possible to reach any node from any given starting node, so the number of components is 1."
   ]
  },
  {
   "cell_type": "markdown",
   "metadata": {},
   "source": [
    "### Diameter:"
   ]
  },
  {
   "cell_type": "markdown",
   "metadata": {},
   "source": [
    "The largest possible number of edges that must be traversed to travel on the shortest path between two nodes in a network."
   ]
  },
  {
   "cell_type": "code",
   "execution_count": 45,
   "metadata": {},
   "outputs": [
    {
     "name": "stdout",
     "output_type": "stream",
     "text": [
      "9\n"
     ]
    }
   ],
   "source": [
    "diam = nx.diameter(G)\n",
    "print(diam)"
   ]
  },
  {
   "cell_type": "markdown",
   "metadata": {},
   "source": [
    "Given its size, the network has a low diameter, suggesting that there are a number of main connecting nodes most paths can travel through."
   ]
  },
  {
   "cell_type": "markdown",
   "metadata": {},
   "source": [
    "### Degree Distribution"
   ]
  },
  {
   "cell_type": "markdown",
   "metadata": {},
   "source": [
    "The frequency with which the number of edges a node has occurs."
   ]
  },
  {
   "cell_type": "code",
   "execution_count": 46,
   "metadata": {},
   "outputs": [
    {
     "data": {
      "text/plain": [
       "Text(0, 0.5, 'Frequency')"
      ]
     },
     "execution_count": 46,
     "metadata": {},
     "output_type": "execute_result"
    },
    {
     "data": {
      "image/png": "[encoded data removed]",
      "text/plain": [
       "<Figure size 432x288 with 1 Axes>"
      ]
     },
     "metadata": {
      "needs_background": "light"
     },
     "output_type": "display_data"
    }
   ],
   "source": [
    "ddist = nx.degree_histogram(G)[1:] # Skip 0 degree nodes\n",
    "plt.loglog(range(1,len(ddist)+1),ddist,'o')\n",
    "plt.xlabel(\"Degree\")\n",
    "plt.ylabel(\"Frequency\")"
   ]
  },
  {
   "cell_type": "markdown",
   "metadata": {},
   "source": [
    "### Cluster Coefficient"
   ]
  },
  {
   "cell_type": "markdown",
   "metadata": {},
   "source": [
    "The cluster coefficient is a measure of how interconnected the neighbours of each node are."
   ]
  },
  {
   "cell_type": "code",
   "execution_count": 47,
   "metadata": {},
   "outputs": [
    {
     "data": {
      "text/plain": [
       "Text(0.5, 0, 'Clustering Coefficient')"
      ]
     },
     "execution_count": 47,
     "metadata": {},
     "output_type": "execute_result"
    },
    {
     "data": {
      "image/png": "[encoded data removed]",
      "text/plain": [
       "<Figure size 432x288 with 1 Axes>"
      ]
     },
     "metadata": {
      "needs_background": "light"
     },
     "output_type": "display_data"
    }
   ],
   "source": [
    "cc = nx.clustering(G)\n",
    "plt.hist(list(cc.values()),bins=10)\n",
    "plt.ylabel('Frequency')\n",
    "plt.xlabel('Clustering Coefficient')"
   ]
  },
  {
   "cell_type": "markdown",
   "metadata": {},
   "source": [
    "The majority of nodes have a clustering coefficient below 0.1. This means the neighbours of the average node are not densely clustered together."
   ]
  },
  {
   "cell_type": "markdown",
   "metadata": {},
   "source": [
    "### Betweenness Centrality "
   ]
  },
  {
   "cell_type": "markdown",
   "metadata": {},
   "source": [
    "The betweenness centrality is the measure of importance of a node within a network. A higher bc indicates a greater number of paths between nodes that go via that node."
   ]
  },
  {
   "cell_type": "code",
   "execution_count": 48,
   "metadata": {
    "scrolled": true
   },
   "outputs": [
    {
     "data": {
      "text/plain": [
       "{1: 0.18553227937977304,\n",
       " 3: 0.0,\n",
       " 4: 0.0,\n",
       " 5: 0.0,\n",
       " 6: 0.0,\n",
       " 7: 0.0,\n",
       " 8: 0.0,\n",
       " 9: 0.0,\n",
       " 10: 0.0,\n",
       " 11: 0.0,\n",
       " 12: 0.0,\n",
       " 13: 0.0,\n",
       " 14: 0.0,\n",
       " 15: 0.0,\n",
       " 16: 0.0,\n",
       " 17: 0.0,\n",
       " 18: 0.0,\n",
       " 19: 0.0,\n",
       " 20: 0.0,\n",
       " 21: 0.0,\n",
       " 22: 0.0,\n",
       " 23: 0.0,\n",
       " 24: 0.0,\n",
       " 25: 0.0,\n",
       " 26: 0.0,\n",
       " 27: 0.0,\n",
       " 28: 0.0,\n",
       " 29: 0.0,\n",
       " 30: 0.0,\n",
       " 31: 0.0,\n",
       " 32: 0.0,\n",
       " 33: 0.0,\n",
       " 34: 0.0,\n",
       " 35: 0.02394563607735185,\n",
       " 36: 0.0,\n",
       " 37: 0.0,\n",
       " 38: 0.0,\n",
       " 39: 0.0,\n",
       " 40: 0.0,\n",
       " 41: 0.0,\n",
       " 42: 0.0,\n",
       " 43: 0.0,\n",
       " 44: 0.0,\n",
       " 45: 0.0,\n",
       " 46: 0.0,\n",
       " 47: 0.0,\n",
       " 48: 0.0,\n",
       " 49: 0.0,\n",
       " 50: 0.0,\n",
       " 51: 0.0,\n",
       " 52: 0.0,\n",
       " 53: 0.0,\n",
       " 54: 0.0,\n",
       " 55: 0.0,\n",
       " 56: 0.0,\n",
       " 57: 0.0,\n",
       " 58: 0.0,\n",
       " 59: 0.0,\n",
       " 60: 0.0,\n",
       " 61: 0.0,\n",
       " 62: 0.0,\n",
       " 63: 0.0,\n",
       " 64: 0.0,\n",
       " 65: 0.0,\n",
       " 66: 0.0,\n",
       " 67: 0.0,\n",
       " 68: 0.0,\n",
       " 69: 0.021741725727860768,\n",
       " 70: 0.0,\n",
       " 71: 0.00885680107517199,\n",
       " 72: 0.0,\n",
       " 73: 0.0,\n",
       " 74: 0.0,\n",
       " 75: 0.0,\n",
       " 76: 0.0,\n",
       " 77: 0.0,\n",
       " 78: 0.0,\n",
       " 79: 0.0,\n",
       " 80: 0.0,\n",
       " 81: 0.0,\n",
       " 82: 0.0,\n",
       " 83: 0.0,\n",
       " 84: 0.0,\n",
       " 85: 0.0,\n",
       " 86: 0.0,\n",
       " 87: 0.0,\n",
       " 88: 0.0,\n",
       " 89: 0.0,\n",
       " 90: 0.0033071126052061587,\n",
       " 91: 0.0,\n",
       " 92: 0.0,\n",
       " 93: 0.0,\n",
       " 94: 0.0,\n",
       " 95: 0.0,\n",
       " 96: 0.0,\n",
       " 97: 0.0,\n",
       " 98: 0.0,\n",
       " 99: 0.0,\n",
       " 100: 0.0,\n",
       " 101: 0.0,\n",
       " 102: 0.0,\n",
       " 103: 0.0,\n",
       " 104: 0.0,\n",
       " 105: 0.0,\n",
       " 106: 0.0,\n",
       " 107: 0.0,\n",
       " 108: 0.0,\n",
       " 109: 0.0,\n",
       " 110: 0.0,\n",
       " 111: 0.0,\n",
       " 112: 0.0,\n",
       " 113: 0.0,\n",
       " 114: 0.0,\n",
       " 115: 0.0,\n",
       " 116: 0.0,\n",
       " 117: 0.0,\n",
       " 118: 0.0,\n",
       " 119: 0.0,\n",
       " 120: 0.0,\n",
       " 121: 0.0,\n",
       " 122: 0.0,\n",
       " 123: 0.0,\n",
       " 124: 0.0,\n",
       " 125: 0.0,\n",
       " 126: 0.0,\n",
       " 127: 0.0,\n",
       " 128: 0.0,\n",
       " 129: 0.0,\n",
       " 130: 0.0,\n",
       " 131: 0.0,\n",
       " 132: 0.0,\n",
       " 133: 0.0,\n",
       " 134: 0.0,\n",
       " 135: 0.0,\n",
       " 136: 0.0,\n",
       " 137: 0.0,\n",
       " 138: 0.0,\n",
       " 139: 0.0,\n",
       " 140: 0.0,\n",
       " 141: 0.0,\n",
       " 142: 0.0,\n",
       " 143: 0.0,\n",
       " 144: 0.0,\n",
       " 145: 0.0,\n",
       " 146: 0.0,\n",
       " 147: 0.0,\n",
       " 148: 0.0,\n",
       " 149: 0.0,\n",
       " 150: 0.0,\n",
       " 151: 0.0,\n",
       " 152: 0.0,\n",
       " 153: 0.0,\n",
       " 154: 0.0,\n",
       " 155: 0.0,\n",
       " 156: 0.0,\n",
       " 157: 0.0,\n",
       " 158: 0.0,\n",
       " 159: 0.0,\n",
       " 160: 0.0,\n",
       " 161: 0.0,\n",
       " 162: 0.0,\n",
       " 163: 0.0,\n",
       " 164: 0.0,\n",
       " 165: 0.0,\n",
       " 166: 0.0,\n",
       " 167: 0.0,\n",
       " 168: 0.0,\n",
       " 169: 0.0,\n",
       " 170: 0.0,\n",
       " 171: 0.0,\n",
       " 172: 0.0,\n",
       " 173: 0.0,\n",
       " 174: 0.0,\n",
       " 175: 0.0,\n",
       " 176: 0.0,\n",
       " 177: 0.0,\n",
       " 178: 0.0,\n",
       " 179: 0.0,\n",
       " 180: 0.0,\n",
       " 181: 0.0,\n",
       " 182: 0.0,\n",
       " 183: 0.0,\n",
       " 184: 0.0,\n",
       " 185: 0.0,\n",
       " 186: 0.0,\n",
       " 187: 0.0,\n",
       " 188: 0.0,\n",
       " 189: 0.0,\n",
       " 190: 0.0,\n",
       " 191: 0.0,\n",
       " 192: 0.0,\n",
       " 193: 0.0,\n",
       " 194: 0.0,\n",
       " 195: 0.0,\n",
       " 196: 0.0,\n",
       " 197: 0.0,\n",
       " 198: 0.0,\n",
       " 199: 0.0,\n",
       " 200: 0.0,\n",
       " 201: 0.0,\n",
       " 202: 0.0,\n",
       " 203: 0.0,\n",
       " 204: 0.0,\n",
       " 205: 0.0,\n",
       " 206: 0.0,\n",
       " 207: 0.0,\n",
       " 208: 0.0,\n",
       " 209: 0.0,\n",
       " 210: 0.0,\n",
       " 211: 0.0,\n",
       " 212: 0.0,\n",
       " 213: 0.0,\n",
       " 214: 0.0,\n",
       " 215: 0.0,\n",
       " 216: 0.0,\n",
       " 217: 0.0033071126052061587,\n",
       " 218: 0.0,\n",
       " 219: 0.0,\n",
       " 220: 0.0,\n",
       " 221: 0.0,\n",
       " 222: 0.0,\n",
       " 223: 0.0,\n",
       " 224: 0.0,\n",
       " 225: 0.0,\n",
       " 226: 0.0,\n",
       " 227: 0.0,\n",
       " 228: 0.0,\n",
       " 229: 0.0,\n",
       " 230: 0.0,\n",
       " 231: 0.0,\n",
       " 232: 0.0,\n",
       " 233: 0.0,\n",
       " 234: 0.0,\n",
       " 235: 0.0,\n",
       " 236: 0.0,\n",
       " 237: 0.0,\n",
       " 238: 0.0,\n",
       " 239: 0.0,\n",
       " 240: 0.0,\n",
       " 241: 0.0,\n",
       " 242: 0.0,\n",
       " 243: 0.0,\n",
       " 244: 0.0,\n",
       " 245: 0.0,\n",
       " 246: 0.0,\n",
       " 247: 0.24124766547644544,\n",
       " 248: 0.0,\n",
       " 249: 0.0,\n",
       " 250: 0.0,\n",
       " 251: 0.0,\n",
       " 252: 0.0,\n",
       " 253: 0.0,\n",
       " 254: 0.0,\n",
       " 255: 0.0,\n",
       " 256: 0.0,\n",
       " 257: 0.0,\n",
       " 258: 0.0,\n",
       " 259: 0.0,\n",
       " 260: 0.0,\n",
       " 261: 0.0,\n",
       " 262: 0.0,\n",
       " 263: 0.0,\n",
       " 264: 0.0,\n",
       " 265: 0.0,\n",
       " 266: 0.0,\n",
       " 267: 0.0,\n",
       " 268: 0.0,\n",
       " 269: 0.0,\n",
       " 270: 0.0,\n",
       " 271: 0.0,\n",
       " 272: 0.0,\n",
       " 273: 0.0,\n",
       " 274: 0.0,\n",
       " 275: 0.0,\n",
       " 276: 0.0,\n",
       " 277: 0.0,\n",
       " 278: 0.0,\n",
       " 279: 0.0,\n",
       " 280: 0.0,\n",
       " 281: 0.0,\n",
       " 282: 0.0,\n",
       " 283: 0.0,\n",
       " 284: 0.0,\n",
       " 285: 0.0,\n",
       " 286: 0.0,\n",
       " 287: 0.0,\n",
       " 288: 0.4662070762937073,\n",
       " 1525: 0.4295731259856024,\n",
       " 603: 0.5498572642766948,\n",
       " 710: 0.12728835154311563,\n",
       " 714: 0.112806987096417,\n",
       " 289: 0.0,\n",
       " 290: 0.0,\n",
       " 291: 0.0,\n",
       " 292: 0.0,\n",
       " 293: 0.0,\n",
       " 294: 0.0,\n",
       " 295: 0.0,\n",
       " 296: 0.0,\n",
       " 297: 0.0,\n",
       " 298: 0.0,\n",
       " 299: 0.0,\n",
       " 300: 0.0,\n",
       " 301: 0.0,\n",
       " 302: 0.0,\n",
       " 303: 0.0,\n",
       " 304: 0.0,\n",
       " 305: 0.0,\n",
       " 306: 0.0,\n",
       " 307: 0.0,\n",
       " 308: 0.0,\n",
       " 309: 0.0,\n",
       " 310: 0.0,\n",
       " 311: 0.0,\n",
       " 312: 0.0,\n",
       " 313: 0.0,\n",
       " 314: 0.0,\n",
       " 315: 0.0,\n",
       " 316: 0.0,\n",
       " 317: 0.0,\n",
       " 318: 0.0,\n",
       " 319: 0.0,\n",
       " 320: 0.0,\n",
       " 321: 0.0,\n",
       " 322: 0.0,\n",
       " 323: 0.0,\n",
       " 324: 0.0,\n",
       " 325: 0.0,\n",
       " 326: 0.0,\n",
       " 327: 0.0,\n",
       " 328: 0.0,\n",
       " 329: 0.0,\n",
       " 330: 0.0,\n",
       " 331: 0.0,\n",
       " 332: 0.0,\n",
       " 333: 0.0,\n",
       " 334: 0.0,\n",
       " 335: 0.06498424834646672,\n",
       " 336: 0.0,\n",
       " 337: 0.0,\n",
       " 338: 0.0,\n",
       " 339: 0.0,\n",
       " 340: 0.0,\n",
       " 341: 0.0,\n",
       " 342: 0.0,\n",
       " 343: 0.0,\n",
       " 344: 0.0,\n",
       " 345: 0.0,\n",
       " 346: 0.0,\n",
       " 347: 0.0,\n",
       " 348: 0.0,\n",
       " 349: 0.0,\n",
       " 350: 0.0,\n",
       " 351: 0.0,\n",
       " 352: 0.0,\n",
       " 353: 0.0,\n",
       " 354: 0.0,\n",
       " 355: 0.0,\n",
       " 356: 0.0,\n",
       " 357: 0.0,\n",
       " 358: 0.0,\n",
       " 359: 0.0,\n",
       " 360: 0.0,\n",
       " 361: 0.0,\n",
       " 362: 0.0,\n",
       " 363: 0.0,\n",
       " 364: 0.0,\n",
       " 365: 0.0,\n",
       " 366: 0.0,\n",
       " 367: 0.0,\n",
       " 368: 0.0,\n",
       " 369: 0.0,\n",
       " 370: 0.0,\n",
       " 371: 0.0,\n",
       " 372: 0.0,\n",
       " 373: 0.0,\n",
       " 374: 0.0,\n",
       " 375: 0.0,\n",
       " 376: 0.0,\n",
       " 377: 0.0,\n",
       " 378: 0.0,\n",
       " 379: 0.0,\n",
       " 380: 0.0,\n",
       " 381: 0.0,\n",
       " 382: 0.0,\n",
       " 383: 0.0,\n",
       " 384: 0.0,\n",
       " 385: 0.0,\n",
       " 386: 0.0,\n",
       " 387: 0.0,\n",
       " 388: 0.0,\n",
       " 389: 0.0,\n",
       " 390: 0.0,\n",
       " 391: 0.0,\n",
       " 392: 0.0,\n",
       " 393: 0.0,\n",
       " 394: 0.0,\n",
       " 395: 0.0,\n",
       " 396: 0.0,\n",
       " 397: 0.0,\n",
       " 398: 0.0,\n",
       " 399: 0.0,\n",
       " 400: 0.0,\n",
       " 401: 0.0,\n",
       " 402: 0.0,\n",
       " 403: 0.0,\n",
       " 404: 0.0,\n",
       " 405: 0.0,\n",
       " 406: 0.0,\n",
       " 407: 0.0,\n",
       " 408: 0.0,\n",
       " 409: 0.0,\n",
       " 410: 0.0,\n",
       " 411: 0.0,\n",
       " 412: 0.0,\n",
       " 413: 0.0,\n",
       " 414: 0.0,\n",
       " 415: 0.0,\n",
       " 416: 0.0,\n",
       " 417: 0.0,\n",
       " 418: 0.0,\n",
       " 419: 0.0,\n",
       " 420: 0.0,\n",
       " 421: 0.0,\n",
       " 422: 0.0,\n",
       " 423: 0.0,\n",
       " 424: 0.0,\n",
       " 425: 0.0,\n",
       " 426: 0.0,\n",
       " 427: 0.0,\n",
       " 428: 0.0,\n",
       " 429: 0.0,\n",
       " 430: 0.0,\n",
       " 431: 0.0,\n",
       " 432: 0.0,\n",
       " 433: 0.0,\n",
       " 434: 0.0,\n",
       " 435: 0.0,\n",
       " 436: 0.0,\n",
       " 437: 0.0,\n",
       " 438: 0.0,\n",
       " 439: 0.0,\n",
       " 440: 0.0,\n",
       " 441: 0.0,\n",
       " 442: 0.0,\n",
       " 443: 0.0,\n",
       " 444: 0.0,\n",
       " 445: 0.0,\n",
       " 446: 0.0,\n",
       " 447: 0.0,\n",
       " 448: 0.0,\n",
       " 449: 0.0,\n",
       " 450: 0.0,\n",
       " 451: 0.0,\n",
       " 452: 0.0,\n",
       " 453: 0.0,\n",
       " 454: 0.0,\n",
       " 455: 0.0,\n",
       " 456: 0.0,\n",
       " 457: 0.0,\n",
       " 458: 0.0,\n",
       " 459: 0.0,\n",
       " 460: 0.0,\n",
       " 461: 0.0,\n",
       " 462: 0.0,\n",
       " 463: 0.0,\n",
       " 464: 0.0,\n",
       " 465: 0.0,\n",
       " 466: 0.0,\n",
       " 467: 0.0,\n",
       " 468: 0.0,\n",
       " 469: 0.0,\n",
       " 470: 0.0,\n",
       " 471: 0.0,\n",
       " 472: 0.0,\n",
       " 473: 0.0,\n",
       " 474: 0.0,\n",
       " 475: 0.0,\n",
       " 476: 0.0,\n",
       " 477: 0.0,\n",
       " 478: 0.0,\n",
       " 479: 0.0,\n",
       " 480: 0.0,\n",
       " 481: 0.0,\n",
       " 482: 0.0,\n",
       " 483: 0.0,\n",
       " 484: 0.0,\n",
       " 485: 0.0,\n",
       " 486: 0.0,\n",
       " 487: 0.0,\n",
       " 488: 0.0,\n",
       " 489: 0.0,\n",
       " 490: 0.0,\n",
       " 491: 0.0,\n",
       " 492: 0.0,\n",
       " 493: 0.0,\n",
       " 494: 0.0,\n",
       " 495: 0.0,\n",
       " 496: 0.0,\n",
       " 497: 0.0,\n",
       " 498: 0.0,\n",
       " 499: 0.0,\n",
       " 500: 0.0,\n",
       " 501: 0.0,\n",
       " 502: 0.0,\n",
       " 503: 0.0,\n",
       " 504: 0.0,\n",
       " 505: 0.0,\n",
       " 506: 0.0,\n",
       " 507: 0.0,\n",
       " 508: 0.0,\n",
       " 509: 0.0,\n",
       " 510: 0.0,\n",
       " 511: 0.0,\n",
       " 512: 0.0,\n",
       " 513: 0.0,\n",
       " 514: 0.0,\n",
       " 515: 0.0,\n",
       " 516: 0.0,\n",
       " 517: 0.0,\n",
       " 518: 0.0,\n",
       " 519: 0.0,\n",
       " 520: 0.0,\n",
       " 521: 0.0,\n",
       " 522: 0.0,\n",
       " 523: 0.0,\n",
       " 524: 0.0,\n",
       " 525: 0.0,\n",
       " 526: 0.0,\n",
       " 527: 0.0,\n",
       " 528: 0.0,\n",
       " 529: 0.0,\n",
       " 530: 0.0,\n",
       " 531: 0.0,\n",
       " 532: 0.0,\n",
       " 533: 0.0,\n",
       " 534: 0.0,\n",
       " 535: 0.0,\n",
       " 536: 0.0,\n",
       " 537: 0.0,\n",
       " 538: 0.0,\n",
       " 539: 0.0,\n",
       " 540: 0.0,\n",
       " 541: 0.0,\n",
       " 542: 0.0,\n",
       " 543: 0.0,\n",
       " 544: 0.0,\n",
       " 545: 0.0,\n",
       " 546: 0.0,\n",
       " 547: 0.0,\n",
       " 548: 0.0,\n",
       " 549: 0.0,\n",
       " 550: 0.0,\n",
       " 551: 0.0,\n",
       " 552: 0.0,\n",
       " 553: 0.0,\n",
       " 554: 0.0,\n",
       " 555: 0.0,\n",
       " 556: 0.0,\n",
       " 557: 0.0,\n",
       " 558: 0.0,\n",
       " 559: 0.0,\n",
       " 560: 0.0,\n",
       " 561: 0.0,\n",
       " 562: 0.0,\n",
       " 563: 0.0,\n",
       " 564: 0.0,\n",
       " 565: 0.0,\n",
       " 566: 0.0,\n",
       " 567: 0.0,\n",
       " 568: 0.0,\n",
       " 569: 0.0,\n",
       " 570: 0.0,\n",
       " 571: 0.0,\n",
       " 572: 0.0,\n",
       " 573: 0.0,\n",
       " 574: 0.0,\n",
       " 575: 0.0,\n",
       " 576: 0.0,\n",
       " 577: 0.0,\n",
       " 578: 0.0,\n",
       " 579: 0.0,\n",
       " 580: 0.0,\n",
       " 581: 0.0,\n",
       " 582: 0.0,\n",
       " 583: 0.0,\n",
       " 584: 0.0,\n",
       " 585: 0.0,\n",
       " 586: 0.0,\n",
       " 587: 0.0,\n",
       " 588: 0.0,\n",
       " 589: 0.0,\n",
       " 590: 0.0,\n",
       " 591: 0.0,\n",
       " 592: 0.0,\n",
       " 593: 0.0,\n",
       " 594: 0.0,\n",
       " 595: 0.0,\n",
       " 596: 0.0,\n",
       " 597: 0.0,\n",
       " 598: 0.0,\n",
       " 599: 0.0,\n",
       " 600: 0.0,\n",
       " 601: 0.0,\n",
       " 602: 0.0,\n",
       " 604: 0.0,\n",
       " 605: 0.0,\n",
       " 606: 0.0,\n",
       " 607: 0.0,\n",
       " 608: 0.0,\n",
       " 609: 0.0,\n",
       " 610: 0.0,\n",
       " 611: 0.0,\n",
       " 612: 0.0,\n",
       " 613: 0.0,\n",
       " 614: 0.0,\n",
       " 615: 0.0,\n",
       " 616: 0.0,\n",
       " 617: 0.0,\n",
       " 618: 0.0,\n",
       " 619: 0.0,\n",
       " 620: 0.0,\n",
       " 621: 0.0,\n",
       " 622: 0.0,\n",
       " 623: 0.0,\n",
       " 624: 0.0,\n",
       " 625: 0.0,\n",
       " 626: 0.0,\n",
       " 627: 0.0,\n",
       " 628: 0.0,\n",
       " 629: 0.0,\n",
       " 630: 0.0,\n",
       " 631: 0.0,\n",
       " 632: 0.0,\n",
       " 633: 0.0,\n",
       " 634: 0.0,\n",
       " 635: 0.0,\n",
       " 636: 0.0,\n",
       " 637: 0.0,\n",
       " 638: 0.0,\n",
       " 639: 0.0,\n",
       " 640: 0.0,\n",
       " 641: 0.0,\n",
       " 642: 0.0,\n",
       " 643: 0.0,\n",
       " 644: 0.0,\n",
       " 645: 0.0,\n",
       " 646: 0.0,\n",
       " 647: 0.0,\n",
       " 648: 0.0,\n",
       " 649: 0.0,\n",
       " 650: 0.0,\n",
       " 651: 0.0,\n",
       " 652: 0.0,\n",
       " 653: 0.0,\n",
       " 654: 0.0,\n",
       " 655: 0.0,\n",
       " 656: 0.0,\n",
       " 657: 0.0,\n",
       " 658: 0.0,\n",
       " 659: 0.0,\n",
       " 660: 0.0,\n",
       " 661: 0.0,\n",
       " 662: 0.0,\n",
       " 663: 0.0,\n",
       " 664: 0.0,\n",
       " 665: 0.0,\n",
       " 666: 0.0,\n",
       " 667: 0.0,\n",
       " 668: 0.0,\n",
       " 669: 0.0,\n",
       " 670: 0.0,\n",
       " 671: 0.0,\n",
       " 672: 0.0,\n",
       " 673: 0.0,\n",
       " 674: 0.0,\n",
       " 675: 0.0,\n",
       " 676: 0.0,\n",
       " 677: 0.0,\n",
       " 678: 0.0,\n",
       " 679: 0.0,\n",
       " 680: 0.0,\n",
       " 681: 0.0,\n",
       " 682: 0.0,\n",
       " 683: 0.0,\n",
       " 684: 0.0,\n",
       " 685: 0.0,\n",
       " 686: 0.0,\n",
       " 687: 0.0,\n",
       " 688: 0.0,\n",
       " 689: 0.0,\n",
       " 690: 0.0,\n",
       " 691: 0.0,\n",
       " 692: 0.0,\n",
       " 693: 0.0,\n",
       " 694: 0.0,\n",
       " 695: 0.0,\n",
       " 696: 0.0,\n",
       " 697: 0.0,\n",
       " 698: 0.0,\n",
       " 699: 0.0,\n",
       " 700: 0.0,\n",
       " 701: 0.0,\n",
       " 702: 0.0,\n",
       " 703: 0.0,\n",
       " 704: 0.0,\n",
       " 705: 0.0,\n",
       " 706: 0.0,\n",
       " 707: 0.0,\n",
       " 708: 0.0,\n",
       " 709: 0.0,\n",
       " 711: 0.0,\n",
       " 712: 0.0,\n",
       " 713: 0.0,\n",
       " 715: 0.0,\n",
       " 716: 0.06309278882935794,\n",
       " 717: 0.0,\n",
       " 718: 0.0,\n",
       " 719: 0.06309278882935794,\n",
       " 720: 0.0,\n",
       " 721: 0.0,\n",
       " 722: 0.0,\n",
       " 723: 0.0,\n",
       " 724: 0.0,\n",
       " 725: 0.0,\n",
       " 726: 0.0,\n",
       " 727: 0.0,\n",
       " 728: 0.0,\n",
       " 729: 0.0,\n",
       " 730: 0.0,\n",
       " 731: 0.0,\n",
       " 732: 0.0,\n",
       " 733: 0.0,\n",
       " 734: 0.0,\n",
       " 735: 0.0,\n",
       " 736: 0.0,\n",
       " 737: 0.0,\n",
       " 738: 0.0,\n",
       " 739: 0.0,\n",
       " 740: 0.0,\n",
       " 741: 0.0,\n",
       " 742: 0.0,\n",
       " 743: 0.0,\n",
       " 744: 0.0,\n",
       " 745: 0.0,\n",
       " 746: 0.0,\n",
       " 747: 0.0,\n",
       " 748: 0.0,\n",
       " 749: 0.0,\n",
       " 750: 0.0,\n",
       " 751: 0.0,\n",
       " 752: 0.0,\n",
       " 753: 0.0,\n",
       " 754: 0.0,\n",
       " 755: 0.0,\n",
       " 756: 0.0,\n",
       " 757: 0.0,\n",
       " 758: 0.0,\n",
       " 759: 0.0,\n",
       " 760: 0.0,\n",
       " 761: 0.0,\n",
       " 762: 0.0,\n",
       " 763: 0.0,\n",
       " 764: 0.0,\n",
       " 765: 0.0,\n",
       " 766: 0.0,\n",
       " 767: 0.0,\n",
       " 2232: 0.06543271707916423,\n",
       " 768: 0.0,\n",
       " 769: 0.0,\n",
       " 770: 0.0,\n",
       " 771: 0.0,\n",
       " 772: 0.0,\n",
       " 773: 0.0,\n",
       " 774: 0.0,\n",
       " 775: 0.0,\n",
       " 776: 0.0,\n",
       " 777: 0.0,\n",
       " 778: 0.0,\n",
       " 779: 0.0,\n",
       " 780: 0.0,\n",
       " 781: 0.0,\n",
       " 782: 0.0,\n",
       " 783: 0.0,\n",
       " 784: 0.0,\n",
       " 785: 0.0,\n",
       " 786: 0.0,\n",
       " 787: 0.0,\n",
       " 788: 0.0,\n",
       " 789: 0.0,\n",
       " 790: 0.0,\n",
       " 791: 0.0,\n",
       " 792: 0.0,\n",
       " 793: 0.0,\n",
       " 794: 0.0,\n",
       " 795: 0.0,\n",
       " 796: 0.0,\n",
       " 797: 0.0,\n",
       " 798: 0.0,\n",
       " 799: 0.0,\n",
       " 800: 0.0,\n",
       " 801: 0.0,\n",
       " 802: 0.0,\n",
       " 803: 0.0,\n",
       " 804: 0.0,\n",
       " 805: 0.0,\n",
       " 806: 0.0,\n",
       " 807: 0.0,\n",
       " 808: 0.0,\n",
       " 809: 0.0,\n",
       " 810: 0.0,\n",
       " 811: 0.0,\n",
       " 812: 0.0,\n",
       " 813: 0.0,\n",
       " 814: 0.0,\n",
       " 815: 0.0,\n",
       " 816: 0.0,\n",
       " 817: 0.0,\n",
       " 818: 0.0,\n",
       " 819: 0.0,\n",
       " 820: 0.0,\n",
       " 821: 0.0,\n",
       " 822: 0.0,\n",
       " 823: 0.0,\n",
       " 824: 0.0,\n",
       " 825: 0.0,\n",
       " 826: 0.0,\n",
       " 827: 0.0,\n",
       " 828: 0.0,\n",
       " 829: 0.0,\n",
       " 830: 0.0,\n",
       " 831: 0.0,\n",
       " 832: 0.0,\n",
       " 833: 0.0,\n",
       " 834: 0.0,\n",
       " 835: 0.0,\n",
       " 836: 0.0,\n",
       " 837: 0.0,\n",
       " 838: 0.0,\n",
       " 839: 0.0,\n",
       " 840: 0.0,\n",
       " 841: 0.0,\n",
       " 842: 0.0,\n",
       " 843: 0.0,\n",
       " 844: 0.0,\n",
       " 845: 0.0,\n",
       " 846: 0.0,\n",
       " 847: 0.0,\n",
       " 848: 0.0,\n",
       " 849: 0.0,\n",
       " 850: 0.0,\n",
       " 851: 0.0,\n",
       " 852: 0.0,\n",
       " 853: 0.0,\n",
       " 854: 0.0,\n",
       " 855: 0.0,\n",
       " 856: 0.0,\n",
       " 857: 0.0,\n",
       " 858: 0.0,\n",
       " 859: 0.0,\n",
       " 860: 0.0,\n",
       " 861: 0.0,\n",
       " 862: 0.0,\n",
       " 863: 0.0,\n",
       " 864: 0.0,\n",
       " 865: 0.0,\n",
       " 866: 0.0,\n",
       " 867: 0.0,\n",
       " 868: 0.0,\n",
       " 869: 0.0,\n",
       " 870: 0.0,\n",
       " 871: 0.0,\n",
       " 872: 0.0,\n",
       " 873: 0.0,\n",
       " 874: 0.0,\n",
       " 875: 0.0,\n",
       " 876: 0.0,\n",
       " 877: 0.0,\n",
       " 878: 0.0,\n",
       " 879: 0.0,\n",
       " 880: 0.0,\n",
       " 881: 0.0,\n",
       " 882: 0.0,\n",
       " 883: 0.0,\n",
       " 884: 0.0,\n",
       " 885: 0.0,\n",
       " 886: 0.0,\n",
       " 887: 0.0,\n",
       " 888: 0.0,\n",
       " 889: 0.0,\n",
       " 890: 0.0,\n",
       " 891: 0.0,\n",
       " 892: 0.0,\n",
       " 893: 0.0,\n",
       " 894: 0.0,\n",
       " 895: 0.0,\n",
       " 896: 0.0,\n",
       " 897: 0.0,\n",
       " 898: 0.0,\n",
       " 899: 0.0,\n",
       " 900: 0.0,\n",
       " 901: 0.0,\n",
       " 902: 0.0,\n",
       " 903: 0.0,\n",
       " 904: 0.0,\n",
       " 905: 0.0,\n",
       " 906: 0.0,\n",
       " 907: 0.0,\n",
       " 908: 0.0,\n",
       " 909: 0.0,\n",
       " 910: 0.0,\n",
       " 911: 0.0,\n",
       " 912: 0.0,\n",
       " 913: 0.0,\n",
       " 914: 0.0,\n",
       " 915: 0.0,\n",
       " 916: 0.0,\n",
       " 917: 0.0,\n",
       " 918: 0.0,\n",
       " 919: 0.0,\n",
       " 920: 0.0,\n",
       " 921: 0.0,\n",
       " 922: 0.0,\n",
       " 923: 0.0,\n",
       " 924: 0.0,\n",
       " 925: 0.0,\n",
       " 926: 0.0,\n",
       " 927: 0.0,\n",
       " 928: 0.0,\n",
       " 929: 0.0,\n",
       " 930: 0.0,\n",
       " 931: 0.0,\n",
       " 932: 0.0,\n",
       " 933: 0.0,\n",
       " 934: 0.0,\n",
       " 935: 0.0,\n",
       " 936: 0.0,\n",
       " 937: 0.0,\n",
       " 938: 0.0,\n",
       " 939: 0.0,\n",
       " 940: 0.0,\n",
       " 941: 0.0,\n",
       " 942: 0.0,\n",
       " 943: 0.0,\n",
       " 944: 0.0,\n",
       " 945: 0.0,\n",
       " 946: 0.0,\n",
       " 947: 0.0,\n",
       " 948: 0.0,\n",
       " 949: 0.0,\n",
       " 950: 0.0,\n",
       " 951: 0.0,\n",
       " 952: 0.0,\n",
       " 953: 0.0,\n",
       " 954: 0.0,\n",
       " 955: 0.0,\n",
       " 956: 0.0,\n",
       " 957: 0.0,\n",
       " 958: 0.0,\n",
       " 959: 0.0,\n",
       " 960: 0.0,\n",
       " 961: 0.0,\n",
       " 962: 0.0,\n",
       " 963: 0.0,\n",
       " 964: 0.0,\n",
       " 965: 0.0,\n",
       " 966: 0.0,\n",
       " 967: 0.0,\n",
       " 968: 0.0,\n",
       " 969: 0.0,\n",
       " 970: 0.0,\n",
       " 971: 0.0,\n",
       " 972: 0.0,\n",
       " 973: 0.0,\n",
       " 974: 0.0,\n",
       " 975: 0.0,\n",
       " 976: 0.0,\n",
       " 977: 0.0,\n",
       " 978: 0.0,\n",
       " 979: 0.0,\n",
       " 980: 0.0,\n",
       " 981: 0.0,\n",
       " 982: 0.0,\n",
       " 983: 0.0,\n",
       " 984: 0.0,\n",
       " 985: 0.0,\n",
       " 986: 0.0,\n",
       " 987: 0.0,\n",
       " 988: 0.0,\n",
       " 989: 0.0,\n",
       " 990: 0.0,\n",
       " 991: 0.0,\n",
       " 992: 0.0,\n",
       " 993: 0.0,\n",
       " 994: 0.0,\n",
       " 995: 0.0,\n",
       " 996: 0.0,\n",
       " 997: 0.0,\n",
       " 998: 0.0,\n",
       " 999: 0.0,\n",
       " ...}"
      ]
     },
     "execution_count": 48,
     "metadata": {},
     "output_type": "execute_result"
    }
   ],
   "source": [
    "nx.betweenness_centrality(G)"
   ]
  },
  {
   "cell_type": "markdown",
   "metadata": {},
   "source": [
    "Most nodes have a bc value of 0.0, incdicating only a select number of nodes are important for routing."
   ]
  },
  {
   "cell_type": "markdown",
   "metadata": {},
   "source": [
    "### Assortativity"
   ]
  },
  {
   "cell_type": "markdown",
   "metadata": {},
   "source": [
    "Assortativity is the preference for a network's nodes to attach to similar nodes."
   ]
  },
  {
   "cell_type": "code",
   "execution_count": 49,
   "metadata": {},
   "outputs": [
    {
     "data": {
      "text/plain": [
       "-0.6680321896944319"
      ]
     },
     "execution_count": 49,
     "metadata": {},
     "output_type": "execute_result"
    }
   ],
   "source": [
    "nx.degree_assortativity_coefficient(G)"
   ]
  },
  {
   "cell_type": "markdown",
   "metadata": {},
   "source": [
    "A negative assortativity indicates the nodes do not have strong interaction with one another."
   ]
  }
 ],
 "metadata": {
  "kernelspec": {
   "display_name": "Python 3",
   "language": "python",
   "name": "python3"
  },
  "language_info": {
   "codemirror_mode": {
    "name": "ipython",
    "version": 3
   },
   "file_extension": ".py",
   "mimetype": "text/x-python",
   "name": "python",
   "nbconvert_exporter": "python",
   "pygments_lexer": "ipython3",
   "version": "3.8.3"
  }
 },
 "nbformat": 4,
 "nbformat_minor": 4
}
